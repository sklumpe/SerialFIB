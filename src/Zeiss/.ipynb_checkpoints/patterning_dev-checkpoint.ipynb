{
 "cells": [
  {
   "cell_type": "code",
   "execution_count": 3,
   "metadata": {
    "collapsed": true
   },
   "outputs": [],
   "source": [
    "import xml.etree.ElementTree as ET"
   ]
  },
  {
   "cell_type": "code",
   "execution_count": 35,
   "metadata": {
    "collapsed": false
   },
   "outputs": [
    {
     "name": "stdout",
     "output_type": "stream",
     "text": [
      "VERSION\n",
      "AXES\n",
      "GRID\n",
      "LAYER_LIST\n",
      "STRUCTURE_LIST\n",
      "bla\n",
      "<Element 'RECT' at 0x000001E1F0B0F548>\n",
      "<Element 'RECT' at 0x000001E1F0B0FC78>\n"
     ]
    }
   ],
   "source": [
    "dummy_pattern='../../TemplatePatterns/Zeiss/layout001.ely'\n",
    "tree = ET.parse(dummy_pattern)\n",
    "root = tree.getroot()\n",
    "\n",
    "#CenterX=Pattern.center_x\n",
    "#CenterY=Pattern.center_y\n",
    "#Depth=Pattern.depth\n",
    "#Length=Pattern.height\n",
    "#Width=Pattern.width\n",
    "#ScanDirection=Pattern.scan_direction\n",
    "pattern_tag='STRUCTURE_LIST'\n",
    "for element in root:\n",
    "    print(element.tag)\n",
    "    for i in element:\n",
    "        #print(\"    \",i.tag)\n",
    "        if element.tag == pattern_tag:\n",
    "            #for j in element:\n",
    "            print('bla')\n",
    "            #break\n",
    "            #print(j.items())\n",
    "        #print(element.tag)\n",
    "    #    element.find('CenterX').text=str(CenterX)\n",
    "    #    element.find('CenterY').text=str(CenterY)\n",
    "    #    print(Depth)\n",
    "    #    element.find('Depth').text=str(Depth)\n",
    "    #print(element.find('RECT'))\n",
    "    #    element.find('Width').text=str(Width)\n",
    "    #    element.find('ScanDirection').text=str(ScanDirection)\n",
    "    \n",
    "for i in root.iter('RECT'):\n",
    "    print(i)\n",
    "    \n",
    "    \n",
    "    \n",
    "    \n",
    "#tree.write('output_pattern.ely')\n",
    "#try:\n",
    "#    tree.write(directory+filename)\n",
    "#except:\n",
    "#    print(\"Files already exist! Please check InputDir\")"
   ]
  },
  {
   "cell_type": "code",
   "execution_count": 50,
   "metadata": {
    "collapsed": false
   },
   "outputs": [
    {
     "name": "stdout",
     "output_type": "stream",
     "text": [
      "-12.9754\n",
      "19.3009\n",
      "-4.86579\n",
      "-10.7858\n",
      "-12.0023\n",
      "27.2484\n",
      "-7.94745\n",
      "17.7601\n"
     ]
    }
   ],
   "source": [
    "dummy_pattern='../../TemplatePatterns/Zeiss/layout001.ely'\n",
    "tree = ET.parse(dummy_pattern)\n",
    "root = tree.getroot()\n",
    "\n",
    "for i in root.iter('RECT'):\n",
    "    print(i.attrib['height'])\n",
    "    print(i.attrib['width'])\n",
    "    print(i.attrib['x'])\n",
    "    print(i.attrib['y'])\n",
    "    i.attrib['y']='0.0'\n",
    "\n",
    "\n",
    "tree.write('output_pattern.ely')"
   ]
  },
  {
   "cell_type": "code",
   "execution_count": null,
   "metadata": {
    "collapsed": true
   },
   "outputs": [],
   "source": []
  }
 ],
 "metadata": {
  "kernelspec": {
   "display_name": "Python 3",
   "language": "python",
   "name": "python3"
  },
  "language_info": {
   "codemirror_mode": {
    "name": "ipython",
    "version": 3
   },
   "file_extension": ".py",
   "mimetype": "text/x-python",
   "name": "python",
   "nbconvert_exporter": "python",
   "pygments_lexer": "ipython3",
   "version": "3.5.2"
  }
 },
 "nbformat": 4,
 "nbformat_minor": 2
}
